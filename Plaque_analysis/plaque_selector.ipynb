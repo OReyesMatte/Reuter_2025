{
 "cells": [
  {
   "cell_type": "code",
   "execution_count": null,
   "id": "26039ce2-9939-4b06-90e9-58ee7b8be819",
   "metadata": {},
   "outputs": [],
   "source": [
    "!pip install -U -q scikit-image matplotlib numpy"
   ]
  },
  {
   "cell_type": "code",
   "execution_count": 24,
   "id": "8993b893-65bc-4507-a74d-1fa685671a61",
   "metadata": {},
   "outputs": [],
   "source": [
    "from skimage import io as skio ## Image input/output\n",
    "from skimage.color import label2rgb ## For plotting: render each mask with its own color\n",
    "\n",
    "import numpy as np\n",
    "from glob import glob\n",
    "\n",
    "from matplotlib import pyplot as plt\n",
    "import matplotlib\n",
    "\n",
    "import warnings\n",
    "warnings.filterwarnings('ignore')"
   ]
  },
  {
   "cell_type": "code",
   "execution_count": 23,
   "id": "785c4fca-9c4a-4f32-8f5d-0c6a165b702c",
   "metadata": {},
   "outputs": [],
   "source": [
    "def TupleRounder(coords:tuple):\n",
    "\n",
    "    x = int(np.round(coords[0],0))\n",
    "    y = int(np.round(coords[1],0))\n",
    "\n",
    "    return (x,y)\n",
    "\n",
    "def MaskSelector(masks:np.array,coords:list):\n",
    "\n",
    "    NewArray = np.zeros(masks.shape)\n",
    "\n",
    "    instances = []\n",
    "    \n",
    "    for coordinate in coords:\n",
    "\n",
    "        x,y = coordinate[0],coordinate[1]\n",
    "\n",
    "        instance = masks[y,x]\n",
    "        \n",
    "        instances.append(instance)\n",
    "\n",
    "    instances = np.unique(instances)\n",
    "        \n",
    "    for i in instances:\n",
    "\n",
    "        if i == 0: continue\n",
    "\n",
    "        singleton = (masks == i)*i\n",
    "\n",
    "        NewArray += singleton\n",
    "        \n",
    "    return np.uint16(NewArray)"
   ]
  },
  {
   "cell_type": "code",
   "execution_count": 5,
   "id": "8a5894b6-15d8-4142-ba8e-dfd79cf39972",
   "metadata": {},
   "outputs": [
    {
     "name": "stdout",
     "output_type": "stream",
     "text": [
      "1\n"
     ]
    }
   ],
   "source": [
    "segmentations = glob('/Users/reyesmatte/Desktop/Reuter_2025/Watershed_example/*watershed.tif')\n",
    "\n",
    "print(len(segmentations))"
   ]
  },
  {
   "cell_type": "markdown",
   "id": "8ea3a0fd-727a-4627-9d2c-289159c3d50f",
   "metadata": {},
   "source": [
    "### Interactively select masks that will be considered for further analyses\n",
    "\n",
    "The segmentation image will open in a separate floating window, where you can interactively mark individual instances for the plaques that **will be kept for further analysis**\n",
    "\n",
    "Here are the controls:\n",
    "\n",
    "- To mark a plaque, left-click or press the spacebar\n",
    "- To un-mark a plaque, right-click\n",
    "- To go to the next image, press Enter\n"
   ]
  },
  {
   "cell_type": "code",
   "execution_count": 20,
   "id": "6e3579f2-d872-4ab3-831e-4acacfb8aa16",
   "metadata": {},
   "outputs": [],
   "source": [
    "matplotlib.use('tkagg')\n",
    "\n",
    "rois = []\n",
    "processed_masks = []\n",
    "\n",
    "for masks in segmentations:\n",
    "\n",
    "    image = skio.imread(masks)\n",
    "\n",
    "    if image[0,0] > 0:\n",
    "\n",
    "        image -= image[0,0]\n",
    "    \n",
    "    fig, ax=plt.subplots()\n",
    "    ax.imshow(label2rgb(image))\n",
    "    yroi = plt.ginput(n=-1,timeout=0,show_clicks=True,mouse_add=1,mouse_pop=3,mouse_stop=2)\n",
    "\n",
    "    coords = [TupleRounder(roi) for roi in yroi]\n",
    "    \n",
    "    processed_masks.append(MaskSelector(skio.imread(masks),coords=coords))\n",
    "    \n",
    "    rois.append(coords)"
   ]
  },
  {
   "cell_type": "code",
   "execution_count": null,
   "id": "fe9aab4c-d659-4fd3-a31f-9af2a35a1941",
   "metadata": {},
   "outputs": [],
   "source": [
    "assert len(segmentations) == len(processed_masks)\n",
    "segmentations = [replace('_watershed.tif','_selected.tif') for segfile in segmentations]\n",
    "\n",
    "for name,mask in zip(segmentations,processed_masks):\n",
    "    \n",
    "    skio.imwrite(name,mask)"
   ]
  }
 ],
 "metadata": {
  "kernelspec": {
   "display_name": "Python 3 (ipykernel)",
   "language": "python",
   "name": "python3"
  },
  "language_info": {
   "codemirror_mode": {
    "name": "ipython",
    "version": 3
   },
   "file_extension": ".py",
   "mimetype": "text/x-python",
   "name": "python",
   "nbconvert_exporter": "python",
   "pygments_lexer": "ipython3",
   "version": "3.10.17"
  }
 },
 "nbformat": 4,
 "nbformat_minor": 5
}
